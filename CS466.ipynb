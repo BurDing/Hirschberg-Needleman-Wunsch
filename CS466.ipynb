{
 "cells": [
  {
   "cell_type": "code",
   "execution_count": 69,
   "metadata": {
    "collapsed": true
   },
   "outputs": [],
   "source": [
    "import nose.tools as Test\n",
    "import numpy as np\n",
    "import matplotlib.pyplot as plt\n",
    "import time\n",
    "import numpy.polynomial.polynomial as poly\n",
    "import random"
   ]
  },
  {
   "cell_type": "code",
   "execution_count": 15,
   "metadata": {
    "collapsed": true
   },
   "outputs": [],
   "source": [
    "def read_blosum62(path):\n",
    "    \"\"\"\n",
    "    Reads in the ncbi's BLOSUM62.txt file and loads the scoring matrix\n",
    "    into a dictionary.\n",
    "    \n",
    "    :param: path is the full path in the local filesystem at which the .txt file is located\n",
    "    :return: a dictionary of dictionaries which will hold the cost of various amino acid\n",
    "    substitutions as defined in BLOSUM62.\n",
    "    \"\"\"\n",
    "    delta = {}\n",
    "    with open(path, 'r') as f:\n",
    "        lines = f.readlines()[6:]\n",
    "        keys = lines[0].split()\n",
    "        keys[-1] = '-'\n",
    "        for i, line in enumerate(lines[1:]):\n",
    "            delta[keys[i]] = {k : int(v) for (k,v) in zip(keys, line.split()[1:])}  \n",
    "    return delta\n",
    "\n",
    "blosum = read_blosum62('BLOSUM62.txt')"
   ]
  },
  {
   "cell_type": "markdown",
   "metadata": {},
   "source": [
    "# Needleman–Wunsch algorithm (Global Alignment)"
   ]
  },
  {
   "cell_type": "code",
   "execution_count": 16,
   "metadata": {
    "collapsed": true
   },
   "outputs": [],
   "source": [
    "def global_align(v, w, delta):\n",
    "    \"\"\"\n",
    "    Returns the score of the maximum scoring alignment of the strings v and w, as well as the actual alignment as \n",
    "    computed by traceback_global. \n",
    "    \n",
    "    :param: v\n",
    "    :param: w\n",
    "    :param: delta\n",
    "    \"\"\"\n",
    "    UP = (-1,0)\n",
    "    LEFT = (0, -1)\n",
    "    TOPLEFT = (-1, -1)\n",
    "    ORIGIN = (0, 0)\n",
    "\n",
    "    def traceback_global(v, w, pointers):\n",
    "        i,j = len(v), len(w)\n",
    "        new_v = []\n",
    "        new_w = []\n",
    "        while True:\n",
    "            di, dj = pointers[i][j]\n",
    "            if (di,dj) == LEFT:\n",
    "                new_v.append('-')\n",
    "                new_w.append(w[j-1])\n",
    "            elif (di,dj) == UP:\n",
    "                new_v.append(v[i-1])\n",
    "                new_w.append('-')\n",
    "            elif (di,dj) == TOPLEFT:\n",
    "                new_v.append(v[i-1])\n",
    "                new_w.append(w[j-1])\n",
    "            i, j = i + di, j + dj\n",
    "            if (i <= 0 and j <= 0):\n",
    "                break\n",
    "        return ''.join(new_v[::-1]), ''.join(new_w[::-1])\n",
    "    \n",
    "    M = [[0 for j in range(len(w)+1)] for i in range(len(v)+1)]\n",
    "    pointers = [[ORIGIN for j in range(len(w)+1)] for i in range(len(v)+1)]\n",
    "    \n",
    "    for i in range(len(v) + 1):\n",
    "        for j in range(len(w) + 1):\n",
    "            if i == 0 and j == 0:\n",
    "                M[i][j] = 0\n",
    "                pointers[i][j] = ORIGIN\n",
    "            elif i == 0:\n",
    "                M[i][j] = M[i][j-1] + delta['-'][w[j-1]]\n",
    "                pointers[i][j] = LEFT\n",
    "            elif j == 0:\n",
    "                M[i][j] = M[i-1][j] + delta[v[i-1]]['-']\n",
    "                pointers[i][j] = UP\n",
    "            else:\n",
    "                up_score = M[i-1][j] + delta[v[i-1]]['-']\n",
    "                left_score = M[i][j-1] + delta['-'][w[j-1]]\n",
    "                topleft_score = M[i-1][j-1] + delta[v[i-1]][w[j-1]]\n",
    "                \n",
    "                if up_score >= left_score and up_score >= topleft_score:\n",
    "                    M[i][j] = up_score\n",
    "                    pointers[i][j] = UP\n",
    "                elif left_score > up_score and left_score >= topleft_score:\n",
    "                    M[i][j] = left_score\n",
    "                    pointers[i][j] = LEFT\n",
    "                else:\n",
    "                    M[i][j] = topleft_score\n",
    "                    pointers[i][j] = TOPLEFT\n",
    "    \n",
    "    score = M[len(v)][len(w)]\n",
    "    alignment_v, alignment_w = traceback_global(v, w, pointers)\n",
    "    \n",
    "    return score, alignment_v, alignment_w"
   ]
  },
  {
   "cell_type": "code",
   "execution_count": 17,
   "metadata": {
    "collapsed": true
   },
   "outputs": [],
   "source": [
    "Test.assert_equal(global_align('LRRGEPVY', 'LEKGDTLYILVG', blosum), (5, 'LRRGEPVY----', 'LEKGDTLYILVG'))\n",
    "Test.assert_equal(global_align('ALYFFT', 'QCASVT', blosum), (-2, 'ALYFFT', 'QCASVT'))\n",
    "Test.assert_equal(global_align('', '', blosum), (0, '', ''))"
   ]
  },
  {
   "cell_type": "markdown",
   "metadata": {},
   "source": [
    "# Hirschberg Algorithm (Linear-Space Sequence Alignment)"
   ]
  },
  {
   "cell_type": "code",
   "execution_count": 18,
   "metadata": {
    "collapsed": true
   },
   "outputs": [],
   "source": [
    "def weight(a, b, delta):\n",
    "        M = [[0 for i in range(2)] for j in range(len(a) + 1)]\n",
    "        \n",
    "        for j in range(len(b) + 1):\n",
    "            for i in range(len(a) + 1):\n",
    "                if i == 0 and j == 0:\n",
    "                    M[0][0] = 0\n",
    "                elif i == 0:\n",
    "                    M[i][j%2] = M[i][(j-1)%2] + delta['-'][b[j-1]]\n",
    "                elif j == 0:\n",
    "                    M[i][j%2] = M[i-1][j%2] + delta[a[i-1]]['-']\n",
    "                else:\n",
    "                    up_score = M[i-1][j%2] + delta[a[i-1]]['-']\n",
    "                    left_score = M[i][(j-1)%2] + delta['-'][b[j-1]]\n",
    "                    topleft_score = M[i-1][(j-1)%2] + delta[a[i-1]][b[j-1]]\n",
    "\n",
    "                    if up_score >= left_score and up_score >= topleft_score:\n",
    "                        M[i][j%2] = up_score\n",
    "                    elif left_score > up_score and left_score >= topleft_score:\n",
    "                        M[i][j%2] = left_score\n",
    "                    else:\n",
    "                        M[i][j%2] = topleft_score\n",
    "\n",
    "        return np.array(M)[:,len(b)%2]\n",
    "\n",
    "def hirschberg(v, w, delta):\n",
    "    \"\"\"\n",
    "    Returns the score of the maximum scoring alignment of the strings v and w, as well as the actual alignment\n",
    "    \n",
    "    :param: v\n",
    "    :param: w\n",
    "    :param: delta\n",
    "    \"\"\"\n",
    "    score, alignment_v, alignment_w = None, None, None\n",
    "    \n",
    "    if len(v) * len(w) == 0 or len(v) == 1 or len(w) == 1:\n",
    "        score, alignment_v, alignment_w = global_align(v, w, delta)\n",
    "    else:\n",
    "        w_mid = len(w) // 2\n",
    "        score_left = weight(v, w[:w_mid], delta)\n",
    "        score_right = weight(v[::-1], w[w_mid:][::-1], delta)[::-1]\n",
    "        \n",
    "        v_mid = np.argmax(score_left + score_right)\n",
    "        score_1, alignment_v_1, alignment_w_1 = hirschberg(v[:v_mid], w[:w_mid], delta)\n",
    "        score_2, alignment_v_2, alignment_w_2 = hirschberg(v[v_mid:], w[w_mid:], delta)\n",
    "        \n",
    "        score = score_1 + score_2\n",
    "        alignment_v = alignment_v_1 + alignment_v_2\n",
    "        alignment_w = alignment_w_1 + alignment_w_2\n",
    "    \n",
    "    return score, alignment_v, alignment_w"
   ]
  },
  {
   "cell_type": "code",
   "execution_count": 19,
   "metadata": {
    "collapsed": true
   },
   "outputs": [],
   "source": [
    "Test.assert_equal(hirschberg('LRRGEPVY', 'LEKGDTLYILVG', blosum), (5, 'LRRGEPVY----', 'LEKGDTLYILVG'))\n",
    "Test.assert_equal(hirschberg('ALYFFT', 'QCASVT', blosum), (-2, 'ALYFFT', 'QCASVT'))\n",
    "Test.assert_equal(hirschberg('', '', blosum), (0, '', ''))"
   ]
  },
  {
   "cell_type": "markdown",
   "metadata": {},
   "source": [
    "# AIDS Data Analysis"
   ]
  },
  {
   "cell_type": "code",
   "execution_count": 25,
   "metadata": {
    "collapsed": true
   },
   "outputs": [],
   "source": [
    "keys = ['A', 'C', 'T', 'G', '-']\n",
    "delta = {}\n",
    "for key in keys:\n",
    "    delta[key] = {}\n",
    "    for other in keys:\n",
    "        if key == other:\n",
    "            delta[key][other] = 1\n",
    "        elif key == '-' or other == '-':\n",
    "            delta[key][other] = -1\n",
    "        else:\n",
    "            delta[key][other] = -2\n",
    "delta['A']['G'] = -1\n",
    "delta['G']['A'] = -1\n",
    "delta['C']['T'] = -1\n",
    "delta['T']['C'] = -1\n",
    "delta['-']['-'] = float('-inf')"
   ]
  },
  {
   "cell_type": "code",
   "execution_count": 26,
   "metadata": {},
   "outputs": [],
   "source": [
    "hiv1 = open(\"HIV1-Genome.txt\", \"r\").read()\n",
    "hiv2 = open(\"HIV2-Genome.txt\", \"r\").read()"
   ]
  },
  {
   "cell_type": "code",
   "execution_count": 27,
   "metadata": {},
   "outputs": [
    {
     "name": "stdout",
     "output_type": "stream",
     "text": [
      "Hirschberg Running Time: 301.59464502334595\n",
      "Hirschberg Score: 1410\n"
     ]
    }
   ],
   "source": [
    "start = time.time()\n",
    "h1, h2, h3 = hirschberg(hiv1, hiv2, delta)\n",
    "end = time.time()\n",
    "overall_Hirschberg_time = end - start\n",
    "print(\"Hirschberg Running Time: \" + str(overall_Hirschberg_time))\n",
    "print(\"Hirschberg Score: \" + str(h1))"
   ]
  },
  {
   "cell_type": "code",
   "execution_count": 28,
   "metadata": {},
   "outputs": [
    {
     "name": "stdout",
     "output_type": "stream",
     "text": [
      "Global Alignment Running Time: 139.47470474243164\n",
      "Global Alignment Score: 1410\n"
     ]
    }
   ],
   "source": [
    "start = time.time()\n",
    "g1, g2, g3 = global_align(hiv1, hiv2, delta)\n",
    "end = time.time()\n",
    "overall_Global_time = end - start\n",
    "print(\"Global Alignment Running Time: \" + str(overall_Global_time))\n",
    "print(\"Global Alignment Score: \" + str(g1))"
   ]
  },
  {
   "cell_type": "markdown",
   "metadata": {},
   "source": [
    "# Time Analysis"
   ]
  },
  {
   "cell_type": "code",
   "execution_count": 29,
   "metadata": {
    "collapsed": true
   },
   "outputs": [],
   "source": [
    "length_of_sequence = np.array(list(range(0, 9001, 500)))"
   ]
  },
  {
   "cell_type": "code",
   "execution_count": 74,
   "metadata": {
    "collapsed": true
   },
   "outputs": [],
   "source": [
    "def time_analysis(length_number):\n",
    "    random_start_list = []\n",
    "    for num in length_number:\n",
    "        random_start_list += random.sample(range(0,len(hiv1) - num), 10)\n",
    "\n",
    "    Hirschberg_res = []\n",
    "    Global_res = []\n",
    "    length_rate = len(hiv1)/len(hiv2)\n",
    "    for index, num  in enumerate(random_start_list):\n",
    "\n",
    "        hiv2_length = length_number[index//10]\n",
    "        hiv1_length = int(hiv2_length*length_rate)\n",
    "        start = time.time()\n",
    "        score, a_1, a_2 = hirschberg(hiv1[num:num+hiv1_length], hiv2[num:num+hiv2_length], delta)\n",
    "        end = time.time()\n",
    "        process_time = end - start\n",
    "        Hirschberg_res.append([(score, a_1, a_2),process_time])\n",
    "\n",
    "        start = time.time()\n",
    "        score, a_1, a_2 = global_align(hiv1[num:num+hiv1_length], hiv2[num:num+hiv2_length], delta)\n",
    "        end = time.time()\n",
    "        process_time = end - start\n",
    "        Global_res.append([(score, a_1, a_2),process_time])\n",
    "\n",
    "    Hirschberg_time_avg, Global_time_avg = [], []\n",
    "    Hirschberg_time = [item[1] for item in Hirschberg_res]\n",
    "    Global_time = [item[1] for item in Global_res]\n",
    "    for i in range(len(length_number)):\n",
    "        Hirschberg_time_avg.append(sum(Hirschberg_time[10*i:10*(i+1)])/10)\n",
    "        Global_time_avg.append(sum(Global_time[10*i:10*(i+1)])/10)\n",
    "    return Hirschberg_time_avg, Global_time_avg, length_number\n",
    "    for i in range(len(length_number)):\n",
    "        print(\"Hirschberg Running Time: \" + str(Hirschberg_time_avg[i]))\n",
    "        print(\"Global_time Running Time: \" + str(Global_time_avg[i]))"
   ]
  },
  {
   "cell_type": "code",
   "execution_count": 33,
   "metadata": {},
   "outputs": [],
   "source": [
    "Hirschberg_time_avg,Global_time_avg,length_number = time_analysis(length_of_sequence)"
   ]
  },
  {
   "cell_type": "code",
   "execution_count": 73,
   "metadata": {},
   "outputs": [
    {
     "data": {
      "image/png": "[encoded data removed]",
      "text/plain": [
       "<Figure size 432x288 with 1 Axes>"
      ]
     },
     "metadata": {},
     "output_type": "display_data"
    }
   ],
   "source": [
    "plt.plot(length_number,Hirschberg_time_avg, label = 'Hirschberg Algorithm' )\n",
    "plt.plot(length_number,Global_time_avg, label = 'Needleman–Wunsch Algorithm' )\n",
    "plt.xlabel('Length of Sequence')\n",
    "plt.ylabel('Time(s)')\n",
    "plt.legend()\n",
    "plt.savefig('TimeAnalysis.jpg')\n",
    "plt.show()"
   ]
  },
  {
   "cell_type": "markdown",
   "metadata": {},
   "source": [
    "# Space Analysis"
   ]
  },
  {
   "cell_type": "code",
   "execution_count": 66,
   "metadata": {
    "collapsed": true
   },
   "outputs": [],
   "source": [
    "result_global = np.array(open(\"result_global.txt\", \"r\").read().split(',')[:-1]).reshape(10 ,19).astype('float')\n",
    "result_hirschberg = np.array(open(\"result_hirschberg.txt\", \"r\").read().split(',')[:-1]).reshape(10 ,19).astype('float')"
   ]
  },
  {
   "cell_type": "code",
   "execution_count": 70,
   "metadata": {
    "collapsed": true
   },
   "outputs": [],
   "source": [
    "def memory_plot(x, y, fit, fitting_line):\n",
    "    coefs = poly.polyfit(x, y, fit)\n",
    "    p = poly.Polynomial(coefs)\n",
    "    \n",
    "    plt.plot(x, y, '.', label = 'Memory Usage') \n",
    "    plt.plot(x, p(x), '-', label = fitting_line)\n",
    "    plt.legend()\n",
    "    \n",
    "    plt.xlabel('Length of Sequence')\n",
    "    plt.ylabel('Space(MB)')\n",
    "    plt.show()"
   ]
  },
  {
   "cell_type": "code",
   "execution_count": 77,
   "metadata": {},
   "outputs": [
    {
     "data": {
      "image/png": "[encoded data removed]",
      "text/plain": [
       "<Figure size 432x288 with 1 Axes>"
      ]
     },
     "metadata": {},
     "output_type": "display_data"
    }
   ],
   "source": [
    "memory_plot(length_of_sequence, result_global.mean(0), 2, \"Quadratic Fitting Line\")\n",
    "plt.savefig('GlobalAlignmentSpaceAnalysis.jpg')"
   ]
  },
  {
   "cell_type": "code",
   "execution_count": 78,
   "metadata": {},
   "outputs": [
    {
     "data": {
      "image/png": "[encoded data removed]",
      "text/plain": [
       "<Figure size 432x288 with 1 Axes>"
      ]
     },
     "metadata": {},
     "output_type": "display_data"
    }
   ],
   "source": [
    "memory_plot(length_of_sequence, result_hirschberg.mean(0), 1, \"Linear Fitting Line\")\n",
    "plt.savefig('HirschbergSpaceAnalysis.jpg')"
   ]
  },
  {
   "cell_type": "code",
   "execution_count": null,
   "metadata": {
    "collapsed": true
   },
   "outputs": [],
   "source": []
  }
 ],
 "metadata": {
  "kernelspec": {
   "display_name": "Python 3",
   "language": "python",
   "name": "python3"
  },
  "language_info": {
   "codemirror_mode": {
    "name": "ipython",
    "version": 3
   },
   "file_extension": ".py",
   "mimetype": "text/x-python",
   "name": "python",
   "nbconvert_exporter": "python",
   "pygments_lexer": "ipython3",
   "version": "3.6.7"
  }
 },
 "nbformat": 4,
 "nbformat_minor": 2
}
